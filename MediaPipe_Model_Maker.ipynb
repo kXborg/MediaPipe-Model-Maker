{
  "cells": [
    {
      "cell_type": "markdown",
      "metadata": {
        "id": "mTm7LJhxzqI2"
      },
      "source": [
        "## MediaPipe Model Maker"
      ]
    },
    {
      "cell_type": "code",
      "execution_count": 2,
      "metadata": {
        "id": "Q2RI-yenysPg"
      },
      "outputs": [
        {
          "ename": "ModuleNotFoundError",
          "evalue": "No module named 'tflite_support.task'",
          "output_type": "error",
          "traceback": [
            "\u001b[1;31m---------------------------------------------------------------------------\u001b[0m",
            "\u001b[1;31mModuleNotFoundError\u001b[0m                       Traceback (most recent call last)",
            "Cell \u001b[1;32mIn[2], line 1\u001b[0m\n\u001b[1;32m----> 1\u001b[0m \u001b[39mfrom\u001b[39;00m \u001b[39mtflite_support\u001b[39;00m\u001b[39m.\u001b[39;00m\u001b[39mtask\u001b[39;00m \u001b[39mimport\u001b[39;00m vision\n",
            "\u001b[1;31mModuleNotFoundError\u001b[0m: No module named 'tflite_support.task'"
          ]
        }
      ],
      "source": [
        "from tflite_support import vision"
      ]
    },
    {
      "cell_type": "code",
      "execution_count": 4,
      "metadata": {
        "id": "yXQgLray0Wyv"
      },
      "outputs": [],
      "source": [
        "detector = task.vision.ObjectDetector.create_from_file('lite-model_efficientdet_lite2_detection_metadata_1.tflite')"
      ]
    },
    {
      "cell_type": "code",
      "execution_count": 5,
      "metadata": {
        "id": "uc7cQaMv09bA"
      },
      "outputs": [],
      "source": [
        "tensor_image = task.vision.TensorImage.create_from_file('dogs.jpg')"
      ]
    },
    {
      "cell_type": "code",
      "execution_count": 7,
      "metadata": {
        "id": "A9C4ceAa1GS_"
      },
      "outputs": [],
      "source": [
        "results = detector.detect(tensor_image)"
      ]
    },
    {
      "cell_type": "code",
      "execution_count": 14,
      "metadata": {
        "colab": {
          "base_uri": "https://localhost:8080/"
        },
        "id": "DxKWmDHD1JgS",
        "outputId": "a90ffae3-940c-4f16-ea0a-a22a936436d2"
      },
      "outputs": [
        {
          "data": {
            "text/plain": [
              "Detection(bounding_box=BoundingBox(origin_x=474, origin_y=148, width=736, height=602), categories=[Category(index=17, score=0.5390625, display_name='', category_name='dog')])"
            ]
          },
          "execution_count": 14,
          "metadata": {},
          "output_type": "execute_result"
        }
      ],
      "source": [
        "results.detections[0]"
      ]
    },
    {
      "cell_type": "code",
      "execution_count": null,
      "metadata": {
        "id": "d67Iji2h1YMT"
      },
      "outputs": [],
      "source": [
        "for detection in results:\n",
        "  x1 = detection.bounding_box.origin_x \n",
        "  y1 = detection.bounding_box.origin_y \n",
        "  width = detection.bounding_box.width \n",
        "  height = detection.bounding_box.height\n",
        "  x2 = x1 + width\n",
        "  y2 = y1 + height \n",
        "  category = detection.categories.category_name\n",
        "\n",
        "  print(f\"Object : {category} Box dimensions: ({x1},{y1}),({x2},{y2})\")\n"
      ]
    },
    {
      "cell_type": "code",
      "execution_count": null,
      "metadata": {
        "id": "YNveMj_V3YjW"
      },
      "outputs": [],
      "source": []
    }
  ],
  "metadata": {
    "accelerator": "GPU",
    "colab": {
      "provenance": []
    },
    "gpuClass": "standard",
    "kernelspec": {
      "display_name": "mediapip",
      "language": "python",
      "name": "python3"
    },
    "language_info": {
      "codemirror_mode": {
        "name": "ipython",
        "version": 3
      },
      "file_extension": ".py",
      "mimetype": "text/x-python",
      "name": "python",
      "nbconvert_exporter": "python",
      "pygments_lexer": "ipython3",
      "version": "3.8.16"
    },
    "vscode": {
      "interpreter": {
        "hash": "c52171977d486e00f073d3167a2328f089be004bff0c2680e057874a3b19c872"
      }
    }
  },
  "nbformat": 4,
  "nbformat_minor": 0
}
