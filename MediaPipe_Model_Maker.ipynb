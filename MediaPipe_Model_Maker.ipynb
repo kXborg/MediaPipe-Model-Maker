{
  "nbformat": 4,
  "nbformat_minor": 0,
  "metadata": {
    "colab": {
      "provenance": []
    },
    "kernelspec": {
      "name": "python3",
      "display_name": "Python 3"
    },
    "language_info": {
      "name": "python"
    },
    "accelerator": "GPU",
    "gpuClass": "standard"
  },
  "cells": [
    {
      "cell_type": "markdown",
      "source": [
        "## MediaPipe Model Maker"
      ],
      "metadata": {
        "id": "mTm7LJhxzqI2"
      }
    },
    {
      "cell_type": "code",
      "source": [
        "!pip install tflite-support"
      ],
      "metadata": {
        "id": "GbDtnLgTzmT9"
      },
      "execution_count": null,
      "outputs": []
    },
    {
      "cell_type": "code",
      "source": [
        "!ls"
      ],
      "metadata": {
        "colab": {
          "base_uri": "https://localhost:8080/"
        },
        "id": "jGwyzxGK07ie",
        "outputId": "251641ea-617c-47b5-a181-780cedd51d1c"
      },
      "execution_count": 3,
      "outputs": [
        {
          "output_type": "stream",
          "name": "stdout",
          "text": [
            "dogs.jpg\t\t\t\t\t\t   sample_data\n",
            "lite-model_efficientdet_lite2_detection_metadata_1.tflite\n"
          ]
        }
      ]
    },
    {
      "cell_type": "code",
      "execution_count": 2,
      "metadata": {
        "id": "Q2RI-yenysPg"
      },
      "outputs": [],
      "source": [
        "from tflite_support.task import vision\n"
      ]
    },
    {
      "cell_type": "code",
      "source": [
        "detector = vision.ObjectDetector.create_from_file('lite-model_efficientdet_lite2_detection_metadata_1.tflite')"
      ],
      "metadata": {
        "id": "yXQgLray0Wyv"
      },
      "execution_count": 4,
      "outputs": []
    },
    {
      "cell_type": "code",
      "source": [
        "tensor_image = vision.TensorImage.create_from_file('dogs.jpg')"
      ],
      "metadata": {
        "id": "uc7cQaMv09bA"
      },
      "execution_count": 5,
      "outputs": []
    },
    {
      "cell_type": "code",
      "source": [
        "results = detector.detect(tensor_image)"
      ],
      "metadata": {
        "id": "A9C4ceAa1GS_"
      },
      "execution_count": 7,
      "outputs": []
    },
    {
      "cell_type": "code",
      "source": [
        "results.detections[0]"
      ],
      "metadata": {
        "colab": {
          "base_uri": "https://localhost:8080/"
        },
        "id": "DxKWmDHD1JgS",
        "outputId": "a90ffae3-940c-4f16-ea0a-a22a936436d2"
      },
      "execution_count": 14,
      "outputs": [
        {
          "output_type": "execute_result",
          "data": {
            "text/plain": [
              "Detection(bounding_box=BoundingBox(origin_x=474, origin_y=148, width=736, height=602), categories=[Category(index=17, score=0.5390625, display_name='', category_name='dog')])"
            ]
          },
          "metadata": {},
          "execution_count": 14
        }
      ]
    },
    {
      "cell_type": "code",
      "source": [
        "for detection in results:\n",
        "  x1 = detection.bounding_box.origin_x \n",
        "  y1 = detection.bounding_box.origin_y \n",
        "  width = detection.bounding_box.width \n",
        "  height = detection.bounding_box.height\n",
        "  x2 = x1 + width\n",
        "  y2 = y1 + height \n",
        "  category = detection.categories.category_name\n",
        "\n",
        "  print(f\"Object : {category} Box dimensions: ({x1},{y1}),({x2},{y2})\")\n"
      ],
      "metadata": {
        "id": "d67Iji2h1YMT"
      },
      "execution_count": null,
      "outputs": []
    },
    {
      "cell_type": "code",
      "source": [],
      "metadata": {
        "id": "YNveMj_V3YjW"
      },
      "execution_count": null,
      "outputs": []
    }
  ]
}